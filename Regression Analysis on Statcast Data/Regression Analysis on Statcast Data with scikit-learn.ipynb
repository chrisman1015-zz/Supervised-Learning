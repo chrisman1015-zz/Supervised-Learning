{
 "cells": [
  {
   "cell_type": "markdown",
   "metadata": {},
   "source": [
    "# Linear Regression Analysis on Statcast Data with scikit-learn\n",
    "\n",
    "## By Christopher Hauman\n",
    "<br>\n",
    "\n",
    "### This will quickly run through using scikit-learn to perform regression analysis on [Statcast](https://blogs.umass.edu/Techbytes/2017/12/15/what-is-statcast/) data. The specific dataset was created in one of my other projects, [Cleaning MLB Statcast Data using pandas DataFrames and seaborn Visualization](https://nbviewer.jupyter.org/github/chrisman1015/Cleaning-Statcast-Data/blob/master/Cleaning%20Statcast%20Data/Cleaning%20Statcast%20Data.ipynb). \n",
    "\n",
    "### If you have any questions about the data please feel free to email me at christopherhauman@gmail.com. If you're unfamiliar with the basics of supervised learning, you should start with my guide on [KNN Classification on the Iris Dataset with scikit-learn](https://github.com/chrisman1015/Supervised-Learning/blob/master/KNN%20Classification%20on%20the%20Iris%20Dataset%20with%20scikit-learn/Iris.ipynb).\n",
    "<br>"
   ]
  },
  {
   "cell_type": "code",
   "execution_count": 211,
   "metadata": {},
   "outputs": [],
   "source": [
    "# import pandas and matplotlib libraries\n",
    "import pandas as pd\n",
    "import matplotlib.pyplot as plt\n",
    "import numpy as np\n",
    "\n",
    "# there are a few depreciation and futurewarnings that could arise. We'll simply disable them for this guide\n",
    "\n",
    "import warnings\n",
    "from sklearn.exceptions import DataConversionWarning\n",
    "warnings.filterwarnings('ignore')\n",
    "warnings.filterwarnings(action='ignore',category=DeprecationWarning)\n",
    "\n",
    "# import csv file to df_raw DataFrame\n",
    "df = pd.read_csv(\"cleaned_allhr2018.csv\", index_col=0)"
   ]
  },
  {
   "cell_type": "code",
   "execution_count": 212,
   "metadata": {},
   "outputs": [
    {
     "data": {
      "text/html": [
       "<div>\n",
       "<style scoped>\n",
       "    .dataframe tbody tr th:only-of-type {\n",
       "        vertical-align: middle;\n",
       "    }\n",
       "\n",
       "    .dataframe tbody tr th {\n",
       "        vertical-align: top;\n",
       "    }\n",
       "\n",
       "    .dataframe thead th {\n",
       "        text-align: right;\n",
       "    }\n",
       "</style>\n",
       "<table border=\"1\" class=\"dataframe\">\n",
       "  <thead>\n",
       "    <tr style=\"text-align: right;\">\n",
       "      <th></th>\n",
       "      <th>home_runs</th>\n",
       "      <th>player_name</th>\n",
       "      <th>total_pitches</th>\n",
       "      <th>pitch_percent</th>\n",
       "      <th>xwoba</th>\n",
       "      <th>xba</th>\n",
       "      <th>launch_speed</th>\n",
       "      <th>launch_angle</th>\n",
       "      <th>spin_rate</th>\n",
       "      <th>velocity</th>\n",
       "      <th>effective_speed</th>\n",
       "      <th>release_extension</th>\n",
       "    </tr>\n",
       "  </thead>\n",
       "  <tbody>\n",
       "    <tr>\n",
       "      <th>0</th>\n",
       "      <td>48</td>\n",
       "      <td>Khris Davis</td>\n",
       "      <td>2514</td>\n",
       "      <td>1.9</td>\n",
       "      <td>1.671</td>\n",
       "      <td>0.861</td>\n",
       "      <td>105.9</td>\n",
       "      <td>27.3</td>\n",
       "      <td>2269.0</td>\n",
       "      <td>89.6</td>\n",
       "      <td>89.01</td>\n",
       "      <td>5.93</td>\n",
       "    </tr>\n",
       "    <tr>\n",
       "      <th>1</th>\n",
       "      <td>43</td>\n",
       "      <td>J.D. Martinez</td>\n",
       "      <td>2519</td>\n",
       "      <td>1.7</td>\n",
       "      <td>1.537</td>\n",
       "      <td>0.792</td>\n",
       "      <td>105.0</td>\n",
       "      <td>28.2</td>\n",
       "      <td>2118.0</td>\n",
       "      <td>88.8</td>\n",
       "      <td>88.46</td>\n",
       "      <td>6.05</td>\n",
       "    </tr>\n",
       "    <tr>\n",
       "      <th>2</th>\n",
       "      <td>40</td>\n",
       "      <td>Joey Gallo</td>\n",
       "      <td>2348</td>\n",
       "      <td>1.7</td>\n",
       "      <td>1.588</td>\n",
       "      <td>0.806</td>\n",
       "      <td>107.7</td>\n",
       "      <td>29.4</td>\n",
       "      <td>2164.0</td>\n",
       "      <td>88.6</td>\n",
       "      <td>88.14</td>\n",
       "      <td>5.96</td>\n",
       "    </tr>\n",
       "    <tr>\n",
       "      <th>3</th>\n",
       "      <td>39</td>\n",
       "      <td>Jose Ramirez</td>\n",
       "      <td>3002</td>\n",
       "      <td>1.3</td>\n",
       "      <td>1.152</td>\n",
       "      <td>0.620</td>\n",
       "      <td>101.3</td>\n",
       "      <td>28.8</td>\n",
       "      <td>2192.0</td>\n",
       "      <td>91.6</td>\n",
       "      <td>91.37</td>\n",
       "      <td>6.09</td>\n",
       "    </tr>\n",
       "    <tr>\n",
       "      <th>4</th>\n",
       "      <td>39</td>\n",
       "      <td>Mike Trout</td>\n",
       "      <td>2543</td>\n",
       "      <td>1.5</td>\n",
       "      <td>1.543</td>\n",
       "      <td>0.809</td>\n",
       "      <td>106.5</td>\n",
       "      <td>28.0</td>\n",
       "      <td>2203.0</td>\n",
       "      <td>87.8</td>\n",
       "      <td>87.11</td>\n",
       "      <td>5.90</td>\n",
       "    </tr>\n",
       "  </tbody>\n",
       "</table>\n",
       "</div>"
      ],
      "text/plain": [
       "   home_runs    player_name  total_pitches  pitch_percent  xwoba    xba  \\\n",
       "0         48    Khris Davis           2514            1.9  1.671  0.861   \n",
       "1         43  J.D. Martinez           2519            1.7  1.537  0.792   \n",
       "2         40     Joey Gallo           2348            1.7  1.588  0.806   \n",
       "3         39   Jose Ramirez           3002            1.3  1.152  0.620   \n",
       "4         39     Mike Trout           2543            1.5  1.543  0.809   \n",
       "\n",
       "   launch_speed  launch_angle  spin_rate  velocity  effective_speed  \\\n",
       "0         105.9          27.3     2269.0      89.6            89.01   \n",
       "1         105.0          28.2     2118.0      88.8            88.46   \n",
       "2         107.7          29.4     2164.0      88.6            88.14   \n",
       "3         101.3          28.8     2192.0      91.6            91.37   \n",
       "4         106.5          28.0     2203.0      87.8            87.11   \n",
       "\n",
       "   release_extension  \n",
       "0               5.93  \n",
       "1               6.05  \n",
       "2               5.96  \n",
       "3               6.09  \n",
       "4               5.90  "
      ]
     },
     "execution_count": 212,
     "metadata": {},
     "output_type": "execute_result"
    }
   ],
   "source": [
    "df.head()"
   ]
  },
  {
   "cell_type": "markdown",
   "metadata": {},
   "source": [
    "### Linear Regression"
   ]
  },
  {
   "cell_type": "code",
   "execution_count": 213,
   "metadata": {},
   "outputs": [],
   "source": [
    "from sklearn import linear_model\n",
    "from sklearn.model_selection import train_test_split\n",
    "from sklearn.metrics import mean_squared_error"
   ]
  },
  {
   "cell_type": "code",
   "execution_count": 214,
   "metadata": {},
   "outputs": [],
   "source": [
    "df_2 = df.drop(['home_runs', 'player_name', \"pitch_percent\", \"xba\", \"xwoba\"], axis=1)"
   ]
  },
  {
   "cell_type": "code",
   "execution_count": 215,
   "metadata": {},
   "outputs": [
    {
     "data": {
      "text/html": [
       "<div>\n",
       "<style scoped>\n",
       "    .dataframe tbody tr th:only-of-type {\n",
       "        vertical-align: middle;\n",
       "    }\n",
       "\n",
       "    .dataframe tbody tr th {\n",
       "        vertical-align: top;\n",
       "    }\n",
       "\n",
       "    .dataframe thead th {\n",
       "        text-align: right;\n",
       "    }\n",
       "</style>\n",
       "<table border=\"1\" class=\"dataframe\">\n",
       "  <thead>\n",
       "    <tr style=\"text-align: right;\">\n",
       "      <th></th>\n",
       "      <th>total_pitches</th>\n",
       "      <th>launch_speed</th>\n",
       "      <th>launch_angle</th>\n",
       "      <th>spin_rate</th>\n",
       "      <th>velocity</th>\n",
       "      <th>effective_speed</th>\n",
       "      <th>release_extension</th>\n",
       "    </tr>\n",
       "  </thead>\n",
       "  <tbody>\n",
       "    <tr>\n",
       "      <th>0</th>\n",
       "      <td>2514</td>\n",
       "      <td>105.9</td>\n",
       "      <td>27.3</td>\n",
       "      <td>2269.0</td>\n",
       "      <td>89.6</td>\n",
       "      <td>89.01</td>\n",
       "      <td>5.93</td>\n",
       "    </tr>\n",
       "    <tr>\n",
       "      <th>1</th>\n",
       "      <td>2519</td>\n",
       "      <td>105.0</td>\n",
       "      <td>28.2</td>\n",
       "      <td>2118.0</td>\n",
       "      <td>88.8</td>\n",
       "      <td>88.46</td>\n",
       "      <td>6.05</td>\n",
       "    </tr>\n",
       "    <tr>\n",
       "      <th>2</th>\n",
       "      <td>2348</td>\n",
       "      <td>107.7</td>\n",
       "      <td>29.4</td>\n",
       "      <td>2164.0</td>\n",
       "      <td>88.6</td>\n",
       "      <td>88.14</td>\n",
       "      <td>5.96</td>\n",
       "    </tr>\n",
       "    <tr>\n",
       "      <th>3</th>\n",
       "      <td>3002</td>\n",
       "      <td>101.3</td>\n",
       "      <td>28.8</td>\n",
       "      <td>2192.0</td>\n",
       "      <td>91.6</td>\n",
       "      <td>91.37</td>\n",
       "      <td>6.09</td>\n",
       "    </tr>\n",
       "    <tr>\n",
       "      <th>4</th>\n",
       "      <td>2543</td>\n",
       "      <td>106.5</td>\n",
       "      <td>28.0</td>\n",
       "      <td>2203.0</td>\n",
       "      <td>87.8</td>\n",
       "      <td>87.11</td>\n",
       "      <td>5.90</td>\n",
       "    </tr>\n",
       "  </tbody>\n",
       "</table>\n",
       "</div>"
      ],
      "text/plain": [
       "   total_pitches  launch_speed  launch_angle  spin_rate  velocity  \\\n",
       "0           2514         105.9          27.3     2269.0      89.6   \n",
       "1           2519         105.0          28.2     2118.0      88.8   \n",
       "2           2348         107.7          29.4     2164.0      88.6   \n",
       "3           3002         101.3          28.8     2192.0      91.6   \n",
       "4           2543         106.5          28.0     2203.0      87.8   \n",
       "\n",
       "   effective_speed  release_extension  \n",
       "0            89.01               5.93  \n",
       "1            88.46               6.05  \n",
       "2            88.14               5.96  \n",
       "3            91.37               6.09  \n",
       "4            87.11               5.90  "
      ]
     },
     "execution_count": 215,
     "metadata": {},
     "output_type": "execute_result"
    }
   ],
   "source": [
    "X = np.array(df_2.copy())\n",
    "y = np.array(df['home_runs'])\n",
    "df_2.head()"
   ]
  },
  {
   "cell_type": "code",
   "execution_count": 227,
   "metadata": {},
   "outputs": [],
   "source": [
    "from sklearn.preprocessing import StandardScaler\n",
    "from sklearn.preprocessing import Normalizer\n",
    "from sklearn.pipeline import make_pipeline"
   ]
  },
  {
   "cell_type": "code",
   "execution_count": 228,
   "metadata": {},
   "outputs": [],
   "source": [
    "X_train, X_test, y_train, y_test = train_test_split(X, y, test_size = 0.25, random_state=1)\n",
    "\n",
    "reg_all = linear_model.LinearRegression()\n",
    "\n",
    "reg_all.fit(X_train, y_train)\n",
    "\n",
    "\n",
    "y_pred = reg_all.predict(X_test)"
   ]
  },
  {
   "cell_type": "code",
   "execution_count": 229,
   "metadata": {},
   "outputs": [
    {
     "data": {
      "text/plain": [
       "0.7015125603184715"
      ]
     },
     "execution_count": 229,
     "metadata": {},
     "output_type": "execute_result"
    }
   ],
   "source": [
    "# get r^2 value\n",
    "reg_all.score(X_test, y_test)"
   ]
  },
  {
   "cell_type": "markdown",
   "metadata": {},
   "source": [
    "Perform Cross Validation:"
   ]
  },
  {
   "cell_type": "code",
   "execution_count": 219,
   "metadata": {},
   "outputs": [],
   "source": [
    "from sklearn.model_selection import cross_validate\n",
    "from sklearn.linear_model import LinearRegression"
   ]
  },
  {
   "cell_type": "code",
   "execution_count": 220,
   "metadata": {},
   "outputs": [
    {
     "name": "stdout",
     "output_type": "stream",
     "text": [
      "[ -3.34568022  -4.29535959  -8.30258222 -21.39664084 -84.35267439]\n",
      "Average 5-Fold CV Score: -24.338587450752847\n"
     ]
    }
   ],
   "source": [
    "reg = LinearRegression()\n",
    "\n",
    "cv_results = cross_val_score(reg, X, y, scoring='r2', cv=5)\n",
    "\n",
    "print(cv_results)\n",
    "np.mean(cv_results)\n",
    "print(\"Average 5-Fold CV Score: {}\".format(np.mean(cv_results)))"
   ]
  },
  {
   "cell_type": "markdown",
   "metadata": {},
   "source": [
    "### Ridge Regression:"
   ]
  },
  {
   "cell_type": "code",
   "execution_count": 230,
   "metadata": {},
   "outputs": [
    {
     "data": {
      "text/plain": [
       "0.6982513906079996"
      ]
     },
     "execution_count": 230,
     "metadata": {},
     "output_type": "execute_result"
    }
   ],
   "source": [
    "from sklearn.linear_model import Ridge\n",
    "\n",
    "ridge = Ridge(alpha=0.1, normalize=True)\n",
    "\n",
    "ridge.fit(X_train, y_train)\n",
    "\n",
    "ridge.pred = ridge.predict(X_test)\n",
    "\n",
    "ridge.score(X_test, y_test)"
   ]
  },
  {
   "cell_type": "markdown",
   "metadata": {},
   "source": [
    "### Lasso Regression"
   ]
  },
  {
   "cell_type": "code",
   "execution_count": 231,
   "metadata": {},
   "outputs": [
    {
     "data": {
      "text/plain": [
       "0.6227431933287793"
      ]
     },
     "execution_count": 231,
     "metadata": {},
     "output_type": "execute_result"
    }
   ],
   "source": [
    "from sklearn.linear_model import Lasso\n",
    "\n",
    "lasso = Lasso(alpha=0.1, normalize=True)\n",
    "\n",
    "lasso.fit(X_train, y_train)\n",
    "\n",
    "lasso_pred = lasso.predict(X_test)\n",
    "\n",
    "lasso.score(X_test, y_test)"
   ]
  },
  {
   "cell_type": "code",
   "execution_count": 232,
   "metadata": {},
   "outputs": [
    {
     "data": {
      "image/png": "[encoded data removed]",
      "text/plain": [
       "<Figure size 432x288 with 1 Axes>"
      ]
     },
     "metadata": {
      "needs_background": "light"
     },
     "output_type": "display_data"
    }
   ],
   "source": [
    "names = df_2.columns\n",
    "\n",
    "lasso = Lasso(alpha=0.1)\n",
    "\n",
    "lasso_coef = lasso.fit(X, y).coef_\n",
    "\n",
    "plt.plot(range(len(names)), lasso_coef)\n",
    "plt.xticks(range(len(names)), names, rotation=60)\n",
    "plt.ylabel('Coefficients')\n",
    "plt.show()"
   ]
  },
  {
   "cell_type": "markdown",
   "metadata": {},
   "source": [
    "Unsurprisingly, launch speed and launch angle are the two variables most highly correlated with home runs.\n",
    "<br>\n",
    "\n",
    "Let's get rid of the other variables and see how well Lasso Regression performs with cross-validation:"
   ]
  },
  {
   "cell_type": "code",
   "execution_count": 233,
   "metadata": {},
   "outputs": [],
   "source": [
    "launch = np.array(df.loc[:, ['launch_angle', 'launch_speed']])"
   ]
  },
  {
   "cell_type": "code",
   "execution_count": 234,
   "metadata": {},
   "outputs": [
    {
     "name": "stdout",
     "output_type": "stream",
     "text": [
      "Tuned Lasso Regression Parameter: {'alpha': 0.1}\n",
      "Tuned Lasso Regression r^2: -0.06162974929081208\n"
     ]
    }
   ],
   "source": [
    "X_train, X_test, y_train, y_test = train_test_split(launch, y, test_size = 0.25, random_state=1)\n",
    "\n",
    "from sklearn.model_selection import GridSearchCV\n",
    "\n",
    "param_grid2 = {'alpha':[0.1, 0.3, 0.5, 0.7, 0.9]}\n",
    "\n",
    "lasso = Lasso(normalize=True)\n",
    "# Instantiate the GridSearchCV object: logreg_cv\n",
    "lasso_cv = GridSearchCV(lasso, param_grid2, cv=10)\n",
    "\n",
    "lasso_cv.fit(X_train, y_train)\n",
    "\n",
    "print(\"Tuned Lasso Regression Parameter: {}\".format(lasso_cv.best_params_))\n",
    "print(\"Tuned Lasso Regression r^2: {}\".format(lasso_cv.best_score_))"
   ]
  },
  {
   "cell_type": "code",
   "execution_count": 226,
   "metadata": {},
   "outputs": [
    {
     "data": {
      "text/plain": [
       "0.0011503163814267081"
      ]
     },
     "execution_count": 226,
     "metadata": {},
     "output_type": "execute_result"
    }
   ],
   "source": [
    "lasso_cv.score(X_test, y_test)"
   ]
  },
  {
   "cell_type": "markdown",
   "metadata": {},
   "source": [
    "We see none of the linear models came even close to predicting the home_run value based on the other features. This implies a linear model is a very poor model for this data."
   ]
  },
  {
   "cell_type": "code",
   "execution_count": null,
   "metadata": {},
   "outputs": [],
   "source": []
  }
 ],
 "metadata": {
  "kernelspec": {
   "display_name": "Python 3",
   "language": "python",
   "name": "python3"
  },
  "language_info": {
   "codemirror_mode": {
    "name": "ipython",
    "version": 3
   },
   "file_extension": ".py",
   "mimetype": "text/x-python",
   "name": "python",
   "nbconvert_exporter": "python",
   "pygments_lexer": "ipython3",
   "version": "3.6.8"
  }
 },
 "nbformat": 4,
 "nbformat_minor": 2
}
