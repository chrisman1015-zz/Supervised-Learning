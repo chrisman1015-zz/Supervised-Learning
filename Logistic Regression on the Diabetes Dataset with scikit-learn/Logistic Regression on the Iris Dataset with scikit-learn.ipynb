{
 "cells": [
  {
   "cell_type": "markdown",
   "metadata": {},
   "source": [
    "# Logistic Regression on the Diabetes Dataset with pipelines and Cross-Validation\n",
    "\n",
    "## By Christopher Hauman\n",
    "<br>\n",
    "\n",
    "A thank you Keshav Dhandhania for creating the fantastic barplot we'll use in his article [End-to-End Data Science Example: Predicting Diabetes with Logistic Regression](https://towardsdatascience.com/end-to-end-data-science-example-predicting-diabetes-with-logistic-regression-db9bc88b4d16). His article is a great place to start on using logistic regression for this dataset. We're going to add some complexity to optimize this model. \n",
    "<br>\n",
    "\n",
    "This is a sequel to my guides on [K-Means Classification on the Iris Dataset with scikit-learn](https://nbviewer.jupyter.org/github/chrisman1015/Unsupervised-Learning/blob/master/K-Means%20Classification%20on%20the%20Iris%20Dataset%20with%20scikit-learn/K-Means%20Classification%20on%20the%20Iris%20Dataset%20with%20scikit-learn.ipynb) and [KNN Classification on the Iris Dataset with scikit-learn](https://nbviewer.jupyter.org/github/chrisman1015/Supervised-Learning/blob/master/KNN%20Classification%20on%20the%20Iris%20Dataset%20with%20scikit-learn/Iris.ipynb). We covered gridsearch cross validation in the knn guide and using pipelines to transform data in the k-means guide. We'll use both of these in conjunction here.\n",
    "\n",
    "<br>\n",
    "\n",
    "The data for this guide was taken from the [Pima Indians Diabetes Database](https://www.kaggle.com/uciml/pima-indians-diabetes-database). Feel free to check it out if you have any questions about the data."
   ]
  },
  {
   "cell_type": "code",
   "execution_count": 17,
   "metadata": {},
   "outputs": [],
   "source": [
    "# there are a few depreciation and futurewarnings that could arise. We'll simply disable them for this guide\n",
    "\n",
    "import warnings\n",
    "from sklearn.exceptions import DataConversionWarning\n",
    "warnings.filterwarnings('ignore')\n",
    "warnings.filterwarnings(action='ignore',category=DeprecationWarning)\n",
    "warnings.filterwarnings(action='ignore',category=FutureWarning)\n",
    "warnings.filterwarnings(action='ignore', category=DataConversionWarning)"
   ]
  },
  {
   "cell_type": "code",
   "execution_count": 20,
   "metadata": {},
   "outputs": [],
   "source": [
    "# import usual packages\n",
    "\n",
    "# for computing the accuracy of the model.\n",
    "from sklearn import metrics\n",
    "\n",
    "# datasets has the dataset\n",
    "from sklearn import datasets\n",
    "\n",
    "# pandas and numPy for DataFrames and arrays\n",
    "import pandas as pd\n",
    "import numpy as np\n",
    "\n",
    "# pyplot and seaborn for plots\n",
    "import matplotlib.pyplot as plt\n",
    "import seaborn as sns"
   ]
  },
  {
   "cell_type": "markdown",
   "metadata": {},
   "source": [
    "We'll load the data, create the feature and target values, and create the train/test splits as usual"
   ]
  },
  {
   "cell_type": "code",
   "execution_count": 28,
   "metadata": {},
   "outputs": [],
   "source": [
    "# load dataset\n",
    "diabetes = pd.read_csv(\"diabetes.csv\")\n",
    "diabetes.head()\n",
    "\n",
    "# load the data and target variables\n",
    "X, y = diabetes.drop(['diabetes'], axis=1), diabetes.diabetes\n",
    "\n",
    "from sklearn.model_selection import train_test_split\n",
    "\n",
    "# take 25% of the data for the test set\n",
    "X_train, X_test, y_train, y_test = train_test_split(X, y, test_size=0.25, random_state=42)"
   ]
  },
  {
   "cell_type": "markdown",
   "metadata": {},
   "source": [
    "We'll begin by perfoming logistic regression on the data the usual way. We initialize the model and then fit it to the data."
   ]
  },
  {
   "cell_type": "code",
   "execution_count": 24,
   "metadata": {},
   "outputs": [],
   "source": [
    "from sklearn.linear_model import LogisticRegression\n",
    "\n",
    "logreg = LogisticRegression(solver='liblinear')\n",
    "\n",
    "logreg.fit(X_train, y_train)\n",
    "\n",
    "y_pred = logreg.predict(X_test)"
   ]
  },
  {
   "cell_type": "markdown",
   "metadata": {},
   "source": [
    "For those out there with statistics backgrounds, the [confusion matrix](https://www.dataschool.io/simple-guide-to-confusion-matrix-terminology/) is a great way to visualize type 1 and 2 errors: "
   ]
  },
  {
   "cell_type": "code",
   "execution_count": 25,
   "metadata": {},
   "outputs": [
    {
     "name": "stdout",
     "output_type": "stream",
     "text": [
      "[[100  23]\n",
      " [ 26  43]]\n"
     ]
    }
   ],
   "source": [
    "from sklearn.metrics import confusion_matrix\n",
    "print(confusion_matrix(y_test, y_pred))"
   ]
  },
  {
   "cell_type": "markdown",
   "metadata": {},
   "source": [
    "We see the model correctly classified 143 out of 192 test values correct. We can get divide the confusion matrix by the total number of observations to get the frequency of each value:"
   ]
  },
  {
   "cell_type": "code",
   "execution_count": 26,
   "metadata": {},
   "outputs": [
    {
     "data": {
      "text/plain": [
       "array([[0.52083333, 0.11979167],\n",
       "       [0.13541667, 0.22395833]])"
      ]
     },
     "execution_count": 26,
     "metadata": {},
     "output_type": "execute_result"
    }
   ],
   "source": [
    "confusion_matrix(y_test, y_pred)/len(y_test)"
   ]
  },
  {
   "cell_type": "markdown",
   "metadata": {},
   "source": [
    "We see the current model has a 13.5% rate of false positives (type 1 error) and a 12% rate for false negatives (type 2 error). Needless to say, this model is far from effective.\n",
    "<br>\n",
    "\n",
    "Next, we'll introduce the classification report. This gives us some more detailed and descriptive statistics:\n",
    "<br>\n",
    "\n",
    "The **precision** contains the accuracy of the classifications for that variable (remember 0 is not having diabetes and 1 is having it).\n",
    "\n",
    "**recall** contains ratio of true positives for that class to the total number of values in that class.\n",
    "\n",
    "**F1** contains the frequency of correct positive predictions that were made for that class.\n"
   ]
  },
  {
   "cell_type": "code",
   "execution_count": 27,
   "metadata": {},
   "outputs": [
    {
     "name": "stdout",
     "output_type": "stream",
     "text": [
      "              precision    recall  f1-score   support\n",
      "\n",
      "           0       0.79      0.81      0.80       123\n",
      "           1       0.65      0.62      0.64        69\n",
      "\n",
      "    accuracy                           0.74       192\n",
      "   macro avg       0.72      0.72      0.72       192\n",
      "weighted avg       0.74      0.74      0.74       192\n",
      "\n"
     ]
    }
   ],
   "source": [
    "from sklearn.metrics import classification_report\n",
    "print(classification_report(y_test, y_pred))"
   ]
  },
  {
   "cell_type": "markdown",
   "metadata": {},
   "source": [
    "Finally, we'll print the accuacy score for the first logistic regression model."
   ]
  },
  {
   "cell_type": "code",
   "execution_count": 29,
   "metadata": {},
   "outputs": [
    {
     "name": "stdout",
     "output_type": "stream",
     "text": [
      "0.7447916666666666\n"
     ]
    }
   ],
   "source": [
    "# print accuracy score\n",
    "print(logreg.score(X_test, y_test))"
   ]
  },
  {
   "cell_type": "markdown",
   "metadata": {},
   "source": [
    "We see our model was just under 75% accurate for the test data. Let's take a look at the a barplot which displays the different factors by their importance to the model:"
   ]
  },
  {
   "cell_type": "code",
   "execution_count": 35,
   "metadata": {},
   "outputs": [
    {
     "data": {
      "text/plain": [
       "Text(0.5, 0, 'Importance')"
      ]
     },
     "execution_count": 35,
     "metadata": {},
     "output_type": "execute_result"
    },
    {
     "data": {
      "image/png": "[encoded data removed]",
      "text/plain": [
       "<Figure size 792x432 with 1 Axes>"
      ]
     },
     "metadata": {
      "needs_background": "light"
     },
     "output_type": "display_data"
    }
   ],
   "source": [
    "coeff = list(logreg.coef_[0])\n",
    "labels = list(X_train.columns)\n",
    "features = pd.DataFrame()\n",
    "features['Features'] = labels\n",
    "features['importance'] = coeff\n",
    "features.sort_values(by=['importance'], ascending=True, inplace=True)\n",
    "features['positive'] = features['importance'] > 0\n",
    "features.set_index('Features', inplace=True)\n",
    "features.importance.plot(kind='barh', figsize=(11, 6),color = features.positive.map({True: 'blue', False: 'red'}))\n",
    "plt.title(\"Importance Plot for the Simple Logistic Regression\")\n",
    "plt.xlabel('Importance')"
   ]
  },
  {
   "cell_type": "markdown",
   "metadata": {},
   "source": [
    "We see the current model considers dpf and pregnancies the most important factors for predicting diabetes. If you're familiar with the topic, this shouldn't sound right. It's quite likely that the scale of some of these variables is skewing the model. To fix this, we'll start normalizing the data in our models from now on."
   ]
  },
  {
   "cell_type": "markdown",
   "metadata": {},
   "source": [
    "***\n",
    "### StandardScaler Logreg Model\n",
    "Create the same model with StandardScaler first in a pipeline. This will normalize the data across features. We'll make the same importance plot and compute the accuracy score for this model as well."
   ]
  },
  {
   "cell_type": "code",
   "execution_count": 40,
   "metadata": {},
   "outputs": [
    {
     "data": {
      "image/png": "[encoded data removed]",
      "text/plain": [
       "<Figure size 792x432 with 1 Axes>"
      ]
     },
     "metadata": {
      "needs_background": "light"
     },
     "output_type": "display_data"
    },
    {
     "name": "stdout",
     "output_type": "stream",
     "text": [
      "0.7760416666666666\n"
     ]
    }
   ],
   "source": [
    "# Scaled version\n",
    "\n",
    "# take 25% of the data for the test set\n",
    "X_train, X_test, y_train, y_test = train_test_split(X, y, test_size=0.25, random_state=1)\n",
    "\n",
    "from sklearn.preprocessing import Normalizer\n",
    "from sklearn.preprocessing import StandardScaler\n",
    "from sklearn.pipeline import make_pipeline\n",
    "\n",
    "# initialize the algorithms\n",
    "standardscaler = StandardScaler()\n",
    "logreg = LogisticRegression(solver='liblinear')\n",
    "\n",
    "# create the pipeline and fit the data\n",
    "pipeline = make_pipeline(standardscaler, logreg)\n",
    "normalized = pipeline.fit(X_train, y_train) \n",
    "\n",
    "coeff = list(pipeline.steps[1][1].coef_[0])\n",
    "labels = list(X_train.columns)\n",
    "features = pd.DataFrame()\n",
    "features['Features'] = labels\n",
    "features['importance'] = coeff\n",
    "features.sort_values(by=['importance'], ascending=True, inplace=True)\n",
    "features['positive'] = features['importance'] > 0\n",
    "features.set_index('Features', inplace=True)\n",
    "features.importance.plot(kind='barh', figsize=(11, 6),color = features.positive.map({True: 'blue', False: 'red'}))\n",
    "plt.title(\"Importance Plot for StandardScaler Pipelined Logistic Regression\")\n",
    "plt.xlabel('Importance')\n",
    "plt.show()\n",
    "print(pipeline.score(X_test, y_test))"
   ]
  },
  {
   "cell_type": "markdown",
   "metadata": {},
   "source": [
    "We see the model increased to about 77% accuracy. This is reflected in the importance plot, which now shows glucose and bmi to be the best predictors for diabetes. "
   ]
  },
  {
   "cell_type": "markdown",
   "metadata": {},
   "source": [
    "***\n",
    "### Normalized Logreg Model\n",
    "\n",
    "We'll also try a pipeline model with Normalizer instead of StandardScaler, which normalizes across each observation:"
   ]
  },
  {
   "cell_type": "code",
   "execution_count": 42,
   "metadata": {},
   "outputs": [
    {
     "data": {
      "image/png": "[encoded data removed]",
      "text/plain": [
       "<Figure size 792x432 with 1 Axes>"
      ]
     },
     "metadata": {
      "needs_background": "light"
     },
     "output_type": "display_data"
    },
    {
     "name": "stdout",
     "output_type": "stream",
     "text": [
      "The pipeline2 test score is 0.6197916666666666\n"
     ]
    }
   ],
   "source": [
    "# X_train, X_test, y_train, y_test = train_test_split(X, y, test_size=0.25, random_state=1)\n",
    "\n",
    "from sklearn.preprocessing import Normalizer\n",
    "\n",
    "# initialize the algorithms\n",
    "normalizer = Normalizer()\n",
    "logreg2 = LogisticRegression(solver='liblinear')\n",
    "\n",
    "# create the pipeline and fit the data\n",
    "pipeline2 = make_pipeline(normalizer, logreg2)\n",
    "pipeline2.fit(X_train, y_train) \n",
    "\n",
    "coeff = list(pipeline2.steps[1][1].coef_[0])\n",
    "labels = list(X_train.columns)\n",
    "features = pd.DataFrame()\n",
    "features['Features'] = labels\n",
    "features['importance'] = coeff\n",
    "features.sort_values(by=['importance'], ascending=True, inplace=True)\n",
    "features['positive'] = features['importance'] > 0\n",
    "features.set_index('Features', inplace=True)\n",
    "features.importance.plot(kind='barh', figsize=(11, 6),color = features.positive.map({True: 'blue', False: 'red'}))\n",
    "plt.xlabel('Importance')\n",
    "plt.title(\"Importance Plot for Normalizer Pipelined Logistic Regression\")\n",
    "plt.show()\n",
    "print(\"The pipeline2 test score is\", pipeline2.score(X_test, y_test))"
   ]
  },
  {
   "cell_type": "markdown",
   "metadata": {},
   "source": [
    "We see the normalizer is much worse for this case. We'll stick with StandardScaler."
   ]
  },
  {
   "cell_type": "markdown",
   "metadata": {},
   "source": [
    "***\n",
    "### GridsearchCV on Unscaled Model\n",
    "\n",
    "But what about the other parameters in the logistic regression? Let's use grid search cross validation to find the best parameters on the original (unscaled) data.\n",
    "<br>\n",
    "\n",
    "**C** controls the inverse of the regularization strength. A large C can lead to an overfit model, while a small C can lead to an underfit model. Optimizing C is crucial for logistic regression.\n",
    "<br>\n",
    "\n",
    "**penalty** determines the penalty function used to fit the model"
   ]
  },
  {
   "cell_type": "code",
   "execution_count": 44,
   "metadata": {},
   "outputs": [
    {
     "name": "stdout",
     "output_type": "stream",
     "text": [
      "Tuned Logistic Regression Parameter: {'C': 31.622776601683793, 'penalty': 'l2'}\n",
      "Tuned Logistic Regression Accuracy: 0.7673913043478261\n"
     ]
    }
   ],
   "source": [
    "from sklearn.model_selection import GridSearchCV\n",
    "\n",
    "# Create the hyperparameter grid\n",
    "c_space = np.logspace(-5, 8, 15)\n",
    "param_grid = {'C':c_space, 'penalty': ['l1', 'l2']}\n",
    "\n",
    "# Instantiate the logistic regression classifier: logreg\n",
    "logreg = LogisticRegression(solver='liblinear')\n",
    "\n",
    "# Create train and test sets\n",
    "X_train, X_test, y_train, y_test = train_test_split(X, y, test_size=0.4, random_state=42)\n",
    "\n",
    "# Instantiate the GridSearchCV object: logreg_cv\n",
    "logreg_cv = GridSearchCV(logreg, param_grid, cv=5)\n",
    "\n",
    "# Fit it to the training data\n",
    "logreg_cv.fit(X_train, y_train)\n",
    "\n",
    "# Print the optimal parameters and best score\n",
    "print(\"Tuned Logistic Regression Parameter: {}\".format(logreg_cv.best_params_))\n",
    "print(\"Tuned Logistic Regression Accuracy: {}\".format(logreg_cv.best_score_))"
   ]
  },
  {
   "cell_type": "markdown",
   "metadata": {},
   "source": [
    "We see the cross validation determined the best value for C is 31.6 and the best penalty is 'l2.'\n",
    "<br>\n",
    "\n",
    "As we move forward, keep in mind the accuracy score was 76.74% with a C value of 31.62."
   ]
  },
  {
   "cell_type": "markdown",
   "metadata": {},
   "source": [
    "***\n",
    "### GridsearchCV on StandardScaled Data"
   ]
  },
  {
   "cell_type": "code",
   "execution_count": 45,
   "metadata": {},
   "outputs": [
    {
     "name": "stdout",
     "output_type": "stream",
     "text": [
      "Tuned Logistic Regression Parameter: {'C': 0.05179474679231213, 'penalty': 'l2'}\n",
      "Tuned Logistic Regression Accuracy: 0.7673913043478261\n"
     ]
    }
   ],
   "source": [
    "from sklearn.model_selection import GridSearchCV\n",
    "\n",
    "# Create the hyperparameter grid\n",
    "c_space2 = np.logspace(-5, 8, 15)\n",
    "param_grid2 = {'C':c_space2, 'penalty': ['l1', 'l2']}\n",
    "\n",
    "standardscaler2 = StandardScaler()\n",
    "\n",
    "# Instantiate the logistic regression classifier: logreg\n",
    "logreg2 = LogisticRegression(solver='liblinear')\n",
    "\n",
    "# Instantiate the GridSearchCV object: logreg_cv\n",
    "logreg_cv = GridSearchCV(logreg2, param_grid2, cv=5)\n",
    "\n",
    "# create the pipeline and fit the data\n",
    "pipeline_cv = make_pipeline(standardscaler2, logreg_cv)\n",
    "\n",
    "# Fit it to the training data\n",
    "pipeline_cv.fit(X_train, y_train)\n",
    "\n",
    "print(\"Tuned Logistic Regression Parameter: {}\".format(pipeline_cv.steps[1][1].best_params_))\n",
    "print(\"Tuned Logistic Regression Accuracy: {}\".format(pipeline_cv.steps[1][1].best_score_))"
   ]
  },
  {
   "cell_type": "markdown",
   "metadata": {},
   "source": [
    "Note the C value is much different for the scaled model, but we had the same accuracy score! The C value was optimized for each of the scaled and nonscaled models, and ultimately provided the same accuracy."
   ]
  },
  {
   "cell_type": "code",
   "execution_count": null,
   "metadata": {},
   "outputs": [],
   "source": []
  }
 ],
 "metadata": {
  "kernelspec": {
   "display_name": "Python 3",
   "language": "python",
   "name": "python3"
  },
  "language_info": {
   "codemirror_mode": {
    "name": "ipython",
    "version": 3
   },
   "file_extension": ".py",
   "mimetype": "text/x-python",
   "name": "python",
   "nbconvert_exporter": "python",
   "pygments_lexer": "ipython3",
   "version": "3.6.8"
  }
 },
 "nbformat": 4,
 "nbformat_minor": 2
}
